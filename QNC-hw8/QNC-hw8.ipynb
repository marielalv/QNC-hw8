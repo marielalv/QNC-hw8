{
  "nbformat": 4,
  "nbformat_minor": 0,
  "metadata": {
    "colab": {
      "provenance": []
    },
    "kernelspec": {
      "name": "python3",
      "display_name": "Python 3"
    },
    "language_info": {
      "name": "python"
    }
  },
  "cells": [
    {
      "cell_type": "code",
      "execution_count": 2,
      "metadata": {
        "id": "zJf4nDfGSW49"
      },
      "outputs": [],
      "source": [
        "import numpy as np\n",
        "import scipy.stats as st\n",
        "import matplotlib.pyplot as plt"
      ]
    },
    {
      "cell_type": "code",
      "source": [
        "wing_length = [10.4, 10.8, 11.1, 10.2, 10.3, 10.2, 10.7, 10.5, 10.8, 11.2, 10.6, 11.4]\n",
        "tail_length = [7.4, 7.6, 7.9, 7.2 ,7.4, 7.1, 7.4, 7.2, 7.8, 7.7, 7.8, 8.3]\n",
        "\n",
        "plt.plot(tail_length, wing_length, 'ko')\n",
        "plt.xlabel('Tail Length (cm)')\n",
        "plt.ylabel('Wing Length (cm)')"
      ],
      "metadata": {
        "colab": {
          "base_uri": "https://localhost:8080/",
          "height": 297
        },
        "id": "d3FzC7jAYO-N",
        "outputId": "60b54189-0d15-4f5d-b725-9a5faf4fc826"
      },
      "execution_count": 3,
      "outputs": [
        {
          "output_type": "execute_result",
          "data": {
            "text/plain": [
              "Text(0, 0.5, 'Wing Length (cm)')"
            ]
          },
          "metadata": {},
          "execution_count": 3
        },
        {
          "output_type": "display_data",
          "data": {
            "text/plain": [
              "<Figure size 432x288 with 1 Axes>"
            ],
            "image/png": "[encoded data removed]"
          },
          "metadata": {
            "needs_background": "light"
          }
        }
      ]
    },
    {
      "cell_type": "code",
      "source": [
        "n             = np.size(wing_length)\n",
        "sample_mean_x = np.sum(wing_length)/n\n",
        "sample_mean_y = np.sum(tail_length)/n\n",
        "SSEX          = np.sum((wing_length - sample_mean_x) ** 2)\n",
        "SSEY          = np.sum((tail_length - sample_mean_y) ** 2)\n",
        "SCOVXY        = np.sum((wing_length - sample_mean_x)*(tail_length - sample_mean_y))\n",
        "rXY           = SCOVXY/(np.sqrt(SSEX)*np.sqrt(SSEY))\n",
        "rYX           = SCOVXY/(np.sqrt(SSEY)*np.sqrt(SSEX))\n",
        "\n",
        "r_builtin = np.corrcoef(wing_length, tail_length)\n",
        "\n",
        "print(f'rXY={rXY:.4f} (computed), {r_builtin[0,1]:.4f} (built-in)')\n",
        "print(f'rYX={rYX:.4f} (computed), {r_builtin[1,0]:.4f} (built-in)')"
      ],
      "metadata": {
        "colab": {
          "base_uri": "https://localhost:8080/"
        },
        "id": "HGnzRQShYUbe",
        "outputId": "22d4a66d-ed06-4814-8172-58be4f79253d"
      },
      "execution_count": 4,
      "outputs": [
        {
          "output_type": "stream",
          "name": "stdout",
          "text": [
            "rXY=0.8704 (computed), 0.8704 (built-in)\n",
            "rYX=0.8704 (computed), 0.8704 (built-in)\n"
          ]
        }
      ]
    },
    {
      "cell_type": "code",
      "source": [
        "standard_error_r = np.sqrt((1-rXY**2)/(n-2))\n",
        "\n",
        "z = 0.5*np.log((1+rXY)/(1-rXY))\n",
        "\n",
        "z_std = np.sqrt(1/(n-3))\n",
        "\n",
        "scale = st.norm.ppf(0.025)*z_std\n",
        "z_95CIs = np.array([z+scale, z-scale])\n",
        "\n",
        "CI95 = (np.exp(2*z_95CIs)-1)/(np.exp(2*z_95CIs)+1)\n",
        "print(f'r={rXY:.2f}, sem={standard_error_r:.4f}, 95 pct CI = [{CI95[0]:.4f}, {CI95[1]:.4f}]')"
      ],
      "metadata": {
        "colab": {
          "base_uri": "https://localhost:8080/"
        },
        "id": "4AP68kPxBtk-",
        "outputId": "1df1b989-efff-405c-f63d-220c3651dbaa"
      },
      "execution_count": 5,
      "outputs": [
        {
          "output_type": "stream",
          "name": "stdout",
          "text": [
            "r=0.87, sem=0.1557, 95 pct CI = [0.5923, 0.9632]\n"
          ]
        }
      ]
    },
    {
      "cell_type": "code",
      "source": [
        "t_val = rXY/standard_error_r\n",
        "prob = 2*(1-st.t.cdf(t_val,n-2))\n",
        "\n",
        "print(f'p={prob:.4f} for H0: r=0')"
      ],
      "metadata": {
        "colab": {
          "base_uri": "https://localhost:8080/"
        },
        "id": "AkseYLNHB4Id",
        "outputId": "9fe09683-d2e2-4a7f-fb57-8807ffba90da"
      },
      "execution_count": 7,
      "outputs": [
        {
          "output_type": "stream",
          "name": "stdout",
          "text": [
            "p=0.0002 for H0: r=0\n"
          ]
        }
      ]
    },
    {
      "cell_type": "code",
      "source": [
        "z_Yale = 0.5*np.log((1+0.75)/(1-0.75))\n",
        "\n",
        "plambda = (z-z_Yale)/z_std\n",
        "\n",
        "prob2 = 2*(1-st.norm.cdf(plambda))\n",
        "print(f'p={prob2:.4f} for H0: r=0.75')"
      ],
      "metadata": {
        "colab": {
          "base_uri": "https://localhost:8080/"
        },
        "id": "GLntu9fKB39y",
        "outputId": "d20d30d8-a012-47bd-cf71-32f9317b18a8"
      },
      "execution_count": 8,
      "outputs": [
        {
          "output_type": "stream",
          "name": "stdout",
          "text": [
            "p=0.2780 for H0: r=0.75\n"
          ]
        }
      ]
    },
    {
      "cell_type": "code",
      "source": [
        "r_ref   = 0.5;  \n",
        "z_ref   = 0.5*np.log((1+r_ref)/(1-r_ref))\n",
        "plambda = (z-z_ref)/np.sqrt(1/(n-3))\n",
        "\n",
        "alpha = 0.05\n",
        "z_criterion = st.norm.ppf(1-alpha/2)\n",
        "\n",
        "power = 1-st.norm.cdf(z_criterion-plambda)\n",
        "\n",
        "desired_power = 0.99\n",
        "predicted_n = np.ceil(1/((z-z_ref) / (z_criterion - st.norm.ppf(1-desired_power)))**2+3)\n",
        "\n",
        "print(f'power = {power:.4f}, predicted n = {int(predicted_n)}')"
      ],
      "metadata": {
        "colab": {
          "base_uri": "https://localhost:8080/"
        },
        "id": "QBy_dZZbCJ-l",
        "outputId": "eb14c6f2-ab2a-46c2-c12a-f2c4b94033a0"
      },
      "execution_count": 9,
      "outputs": [
        {
          "output_type": "stream",
          "name": "stdout",
          "text": [
            "power = 0.6539, predicted n = 33\n"
          ]
        }
      ]
    }
  ]
}